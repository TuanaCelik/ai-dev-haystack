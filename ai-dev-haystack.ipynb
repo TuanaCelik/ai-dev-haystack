{
 "cells": [
  {
   "cell_type": "code",
   "execution_count": 26,
   "metadata": {},
   "outputs": [
    {
     "data": {
      "text/plain": [
       "True"
      ]
     },
     "execution_count": 26,
     "metadata": {},
     "output_type": "execute_result"
    }
   ],
   "source": [
    "from dotenv import load_dotenv, find_dotenv\n",
    "\n",
    "load_dotenv(find_dotenv())"
   ]
  },
  {
   "cell_type": "code",
   "execution_count": 12,
   "metadata": {},
   "outputs": [],
   "source": [
    "import json\n",
    "import json_repair\n",
    "\n",
    "from typing import List, Dict\n",
    "from colorama import Fore\n",
    "\n",
    "from haystack import component, Pipeline\n",
    "from haystack.dataclasses import Document\n",
    "\n",
    "from haystack.components.embedders import OpenAITextEmbedder\n",
    "from haystack.components.retrievers.in_memory import InMemoryEmbeddingRetriever\n",
    "from haystack.components.builders import PromptBuilder\n",
    "from haystack.components.generators import OpenAIGenerator\n",
    "from haystack.components.embedders import OpenAIDocumentEmbedder\n",
    "from haystack.document_stores.in_memory import InMemoryDocumentStore\n",
    "from haystack.components.fetchers import LinkContentFetcher\n",
    "from haystack.components.converters import HTMLToDocument\n",
    "from haystack.components.writers import DocumentWriter"
   ]
  },
  {
   "cell_type": "markdown",
   "metadata": {},
   "source": [
    "## Components\n",
    "1. Initialize a component\n",
    "2. Inspect expected input/output types"
   ]
  },
  {
   "cell_type": "code",
   "execution_count": 28,
   "metadata": {},
   "outputs": [],
   "source": [
    "embedder = OpenAIDocumentEmbedder(model=\"text-embedding-3-small\")"
   ]
  },
  {
   "cell_type": "code",
   "execution_count": null,
   "metadata": {},
   "outputs": [],
   "source": [
    "embedder"
   ]
  },
  {
   "cell_type": "code",
   "execution_count": null,
   "metadata": {},
   "outputs": [],
   "source": [
    "documents = [Document(content=\"Haystack is an open source AI framework to build full AI applications in Python\"),\n",
    "             Document(content=\"You can build AI Pipelines by combining Components\"),]\n",
    "\n",
    "embedder.run(documents=documents)"
   ]
  },
  {
   "cell_type": "markdown",
   "metadata": {},
   "source": [
    "## Pipelines (Indexing + RAG Pipelines)\n",
    "\n",
    "1. Add components\n",
    "2. Connect components"
   ]
  },
  {
   "cell_type": "code",
   "execution_count": null,
   "metadata": {},
   "outputs": [],
   "source": [
    "document_store = InMemoryDocumentStore()\n",
    "document_store.count_documents()"
   ]
  },
  {
   "cell_type": "code",
   "execution_count": 32,
   "metadata": {},
   "outputs": [],
   "source": [
    "fetcher = LinkContentFetcher()\n",
    "converter = HTMLToDocument()\n",
    "embedder = OpenAIDocumentEmbedder()\n",
    "writer = DocumentWriter(document_store=document_store)\n",
    "\n",
    "indexing_pipeline = Pipeline()\n",
    "\n",
    "indexing_pipeline.add_component(\"fetcher\", fetcher)\n",
    "indexing_pipeline.add_component(\"converter\", converter)\n",
    "indexing_pipeline.add_component(\"embedder\", embedder)\n",
    "indexing_pipeline.add_component(\"writer\", writer)"
   ]
  },
  {
   "cell_type": "code",
   "execution_count": null,
   "metadata": {},
   "outputs": [],
   "source": [
    "indexing_pipeline.connect(\"fetcher\", \"converter\")\n",
    "indexing_pipeline.connect(\"converter\", \"embedder\")\n",
    "indexing_pipeline.connect(\"embedder\", \"writer\")"
   ]
  },
  {
   "cell_type": "code",
   "execution_count": null,
   "metadata": {},
   "outputs": [],
   "source": [
    "indexing_pipeline.show()"
   ]
  },
  {
   "cell_type": "code",
   "execution_count": null,
   "metadata": {},
   "outputs": [],
   "source": [
    "indexing_pipeline.run({\"fetcher\": {\"urls\": [\"https://haystack.deepset.ai/integrations/mistral\", \n",
    "                                            \"https://haystack.deepset.ai/integrations/cohere\"]}})"
   ]
  },
  {
   "cell_type": "code",
   "execution_count": null,
   "metadata": {},
   "outputs": [],
   "source": [
    "document_store.count_documents()"
   ]
  },
  {
   "cell_type": "markdown",
   "metadata": {},
   "source": [
    "### RAG"
   ]
  },
  {
   "cell_type": "code",
   "execution_count": 45,
   "metadata": {},
   "outputs": [],
   "source": [
    "prompt_template = \"\"\"Answer the question given the following documents. \n",
    "Documents:\n",
    "{% for document in documents %}\n",
    "    {{document.content}}\n",
    "{% endfor %}\n",
    "Question: {{query}}\n",
    "Answer:\n",
    " \"\"\""
   ]
  },
  {
   "cell_type": "code",
   "execution_count": null,
   "metadata": {},
   "outputs": [],
   "source": [
    "query_embedder = OpenAITextEmbedder()\n",
    "retriever = InMemoryEmbeddingRetriever(document_store=document_store)\n",
    "prompt = PromptBuilder(template=prompt_template)\n",
    "llm = OpenAIGenerator(model=\"gpt-4\")\n",
    "\n",
    "rag = Pipeline()\n",
    "\n",
    "rag.add_component(\"query_embedder\", query_embedder)\n",
    "rag.add_component(\"retriever\", retriever)\n",
    "rag.add_component(\"prompt\", prompt)\n",
    "rag.add_component(\"llm\", llm)\n",
    "\n",
    "\n",
    "rag.connect(\"query_embedder.embedding\", \"retriever.query_embedding\")\n",
    "rag.connect(\"retriever.documents\", \"prompt.documents\")\n",
    "rag.connect(\"prompt\", \"llm\")"
   ]
  },
  {
   "cell_type": "code",
   "execution_count": null,
   "metadata": {},
   "outputs": [],
   "source": [
    "query = \"What are the available Jina components?\"\n",
    "rag.run({\"query_embedder\": {\"text\": query},\n",
    "         \"prompt\": {\"query\": query}})"
   ]
  },
  {
   "cell_type": "markdown",
   "metadata": {},
   "source": [
    "## Self Reflection - Entity Extraction"
   ]
  },
  {
   "cell_type": "code",
   "execution_count": 49,
   "metadata": {},
   "outputs": [],
   "source": [
    "template = \"\"\"\"Extract entities from the following text\n",
    "Text: {{ text }} \n",
    "The entities should be presented as key value pairs in a JSON object.\n",
    "\n",
    "{% if entites_to_validate %}\n",
    "    Here are the entities you extracted: {{entites_to_validate[0]}}\n",
    "    Have you extracted all possible entities? \n",
    "    If yes, say 'done' and return the extracted entites in the next line\n",
    "    If not, say 'incomplete' and return the entities in the next line\n",
    "{% endif %}\n",
    "Entities:\n",
    "\"\"\""
   ]
  },
  {
   "cell_type": "code",
   "execution_count": 50,
   "metadata": {},
   "outputs": [],
   "source": [
    "@component\n",
    "class EntitiesValidator:\n",
    "    \n",
    "    @component.output_types(entites_to_validate=str, entities=str)\n",
    "    def run(self, replies: List[str]):\n",
    "        if 'done' in replies[0]:\n",
    "            return {\"entities\":replies[0].replace('done', '')}\n",
    "        else:\n",
    "            print(Fore.RED + \"Entities to Validate\\n\", replies[0])\n",
    "            return {\"entites_to_validate\": replies[0]}"
   ]
  },
  {
   "cell_type": "code",
   "execution_count": null,
   "metadata": {},
   "outputs": [],
   "source": [
    "prompt_template = PromptBuilder(template=template)\n",
    "llm = OpenAIGenerator()\n",
    "entities_validator = EntitiesValidator()\n",
    "\n",
    "pipeline = Pipeline(max_loops_allowed=10)\n",
    "\n",
    "pipeline.add_component(\"prompt_builder\", prompt_template)\n",
    "pipeline.add_component(\"entities_validator\", entities_validator)\n",
    "pipeline.add_component(\"llm\", llm)\n",
    "\n",
    "pipeline.connect(\"prompt_builder.prompt\", \"llm.prompt\")\n",
    "pipeline.connect(\"llm.replies\", \"entities_validator.replies\")\n",
    "pipeline.connect(\"entities_validator.entites_to_validate\", \"prompt_builder.entites_to_validate\")"
   ]
  },
  {
   "cell_type": "code",
   "execution_count": null,
   "metadata": {},
   "outputs": [],
   "source": [
    "pipeline.show()"
   ]
  },
  {
   "cell_type": "code",
   "execution_count": 25,
   "metadata": {},
   "outputs": [
    {
     "name": "stdout",
     "output_type": "stream",
     "text": [
      "\u001b[31mEntities to Validate\n",
      " {\n",
      "  \"Date\": \"June 19-20, 2024\",\n",
      "  \"Location\": \"Paris, France\",\n",
      "  \"Topic\": \"Composing AI Applications as a Graph with Haystack\",\n",
      "  \"Speaker\": \"Tuana Celik\",\n",
      "  \"Company\": \"deepset\",\n",
      "  \"Role\": \"Developer Relations Lead\",\n",
      "  \"Framework\": \"Haystack\",\n",
      "  \"Language\": \"Python\"\n",
      "}\n",
      "\u001b[32m{\n",
      "    \"Date\": \"June 19-20, 2024\",\n",
      "    \"Location\": \"Paris, France\",\n",
      "    \"Topic\": \"Composing AI Applications as a Graph with Haystack\",\n",
      "    \"Speaker\": \"Tuana Celik\",\n",
      "    \"Company\": \"deepset\",\n",
      "    \"Role\": \"Developer Relations Lead\",\n",
      "    \"Framework\": \"Haystack\",\n",
      "    \"Programming Language\": \"Python\"\n",
      "}\n",
      "\n",
      "\n"
     ]
    }
   ],
   "source": [
    "text = \"\"\"\n",
    "June 19-20, 2024\n",
    "Paris, France\n",
    "Composing AI Applications as a Graph with Haystack - Tuana Celik, deepset\n",
    "There are many moving parts in a fully functioning AI application, whether that be retrieval-augmented generation, agents, chatbots.. Haystack is an open source AI framework in Python, recently redesigned in an opinionated way, that takes the approach of building AI applications as a directed (cyclic) graph. In this talk, we will see how Haystack allows engineers to take full control over how they design their AI workflows, making use of pretty much all model providers and technologies out there.\n",
    "Speakers\n",
    "Tuana Celik\n",
    "Developer Relations Lead, deepset\n",
    "Tuana is a Developer Advocate at deepset where she focuses on the open source AI community and Haystack, deepset’s open source AI framework. She has been actively involved in helping and maintaining the Haystack developer community and Haystack’s educational materials.\n",
    "\"\"\"\n",
    "\n",
    "result = pipeline.run({\"prompt_builder\": {\"text\": text}})\n",
    "print(Fore.GREEN + result['entities_validator']['entities'])"
   ]
  },
  {
   "cell_type": "code",
   "execution_count": 3,
   "metadata": {},
   "outputs": [],
   "source": [
    "@component\n",
    "class QuizParser:\n",
    "    @component.output_types(quiz=Dict)\n",
    "    def run(self, replies: List[str]):\n",
    "        reply = replies[0]\n",
    "\n",
    "        # even if prompted to respond with JSON only, sometimes the model returns a mix of JSON and text\n",
    "        first_index = min(reply.find(\"{\"), reply.find(\"[\"))\n",
    "        last_index = max(reply.rfind(\"}\"), reply.rfind(\"]\")) + 1\n",
    "\n",
    "        json_portion = reply[first_index:last_index]\n",
    "\n",
    "        try:\n",
    "            quiz = json.loads(json_portion)\n",
    "        except json.JSONDecodeError:\n",
    "            # if the JSON is not well-formed, try to repair it\n",
    "            quiz = json_repair.loads(json_portion)\n",
    "\n",
    "        # sometimes the JSON contains a list instead of a dictionary\n",
    "        if isinstance(quiz, list):\n",
    "            quiz = quiz[0]\n",
    "        return {\"quiz\": quiz}"
   ]
  },
  {
   "cell_type": "code",
   "execution_count": null,
   "metadata": {},
   "outputs": [],
   "source": [
    "quiz_generation_template = \"\"\"Given the following text, create 5 multiple choice quizzes in JSON format.\n",
    "Each question should have 4 different options, and only one of them should be correct.\n",
    "The options should be unambiguous.\n",
    "Each option should begin with a letter followed by a period and a space (e.g., \"a. option\").\n",
    "The question should also briefly mention the general topic of the text so that it can be understood in isolation.\n",
    "Each question should not give hints to answer the other questions.\n",
    "Include challenging questions, which require reasoning.\n",
    "\n",
    "respond with JSON only, no markdown or descriptions.\n",
    "\n",
    "example JSON format you should absolutely follow:\n",
    "{\"topic\": \"a sentence explaining the topic of the text\",\n",
    " \"questions\":\n",
    "  [\n",
    "    {\n",
    "      \"question\": \"text of the question\",\n",
    "      \"options\": [\"a. 1st option\", \"b. 2nd option\", \"c. 3rd option\", \"d. 4th option\"],\n",
    "      \"right_option\": \"c\"  # letter of the right option (\"a\" for the first, \"b\" for the second, etc.)\n",
    "    }, ...\n",
    "  ]\n",
    "}\n",
    "\n",
    "text:\n",
    "{% for doc in documents %}{{ doc.content|truncate(4000) }}{% endfor %}\n",
    "\"\"\"\n",
    "\n",
    "\n",
    "quiz_generation_pipeline = Pipeline()\n",
    "quiz_generation_pipeline.add_component(\"link_content_fetcher\", LinkContentFetcher())\n",
    "quiz_generation_pipeline.add_component(\"html_converter\", HTMLToDocument())\n",
    "quiz_generation_pipeline.add_component(\n",
    "    \"prompt_builder\", PromptBuilder(template=quiz_generation_template)\n",
    ")\n",
    "quiz_generation_pipeline.add_component(\n",
    "    \"generator\",\n",
    "    OpenAIGenerator(model=\"gpt-4\"),\n",
    ")\n",
    "quiz_generation_pipeline.add_component(\"quiz_parser\", QuizParser())\n",
    "\n",
    "quiz_generation_pipeline.connect(\"link_content_fetcher\", \"html_converter\")\n",
    "quiz_generation_pipeline.connect(\"html_converter\", \"prompt_builder\")\n",
    "quiz_generation_pipeline.connect(\"prompt_builder\", \"generator\")\n",
    "quiz_generation_pipeline.connect(\"generator\", \"quiz_parser\")"
   ]
  },
  {
   "cell_type": "code",
   "execution_count": null,
   "metadata": {},
   "outputs": [],
   "source": [
    "quiz_generation_pipeline.show()"
   ]
  },
  {
   "cell_type": "code",
   "execution_count": 11,
   "metadata": {},
   "outputs": [
    {
     "name": "stdout",
     "output_type": "stream",
     "text": [
      "{\n",
      "  \"topic\": \"Information about Capybaras, including their anatomy, habitat, diet, threats, and interesting facts\",\n",
      "  \"questions\": [\n",
      "    {\n",
      "      \"question\": \"What kind of extremes in size can Capybaras grow up to?\",\n",
      "      \"options\": [\n",
      "        \"a. They can weigh more than 200 lbs and grow to be 6 feet long and 3 feet tall\",\n",
      "        \"b. They can weigh more than 100 lbs and grow to be 4 feet long and 2 feet tall\",\n",
      "        \"c. They can weigh more than 50 lbs and grow to be 2 feet long and 1 feet tall\",\n",
      "        \"d. They can weigh more than 150 lbs and grow to be 5 feet long and 2.5 feet tall\"\n",
      "      ],\n",
      "      \"right_option\": \"b\"\n",
      "    },\n",
      "    {\n",
      "      \"question\": \"What is the threat posed by humans to Capybaras?\",\n",
      "      \"options\": [\n",
      "        \"a. Humans pollute their habitats\",\n",
      "        \"b. Humans use them for entertainment purposes\",\n",
      "        \"c. Humans hunt them for their meat and hide\",\n",
      "        \"d. Humans displace them from their natural habitats\"\n",
      "      ],\n",
      "      \"right_option\": \"c\"\n",
      "    },\n",
      "    {\n",
      "      \"question\": \"Where can Capybaras be predominantly found?\",\n",
      "      \"options\": [\n",
      "        \"a. In desert areas\",\n",
      "        \"b. Around rivers, lakes, ponds, marshes, and swamps\",\n",
      "        \"c. On mountain tops\",\n",
      "        \"d. In snowy regions\"\n",
      "      ],\n",
      "      \"right_option\": \"b\"\n",
      "    },\n",
      "    {\n",
      "      \"question\": \"What part of Capybara's diet can be considered unusual?\",\n",
      "      \"options\": [\n",
      "        \"a. They eat their own poop\",\n",
      "        \"b. They eat small insects\",\n",
      "        \"c. They eat tree barks\",\n",
      "        \"d. They eat pebbles\"\n",
      "      ],\n",
      "      \"right_option\": \"a\"\n",
      "    },\n",
      "    {\n",
      "      \"question\": \"How do Capybaras react when they feel threatened?\",\n",
      "      \"options\": [\n",
      "        \"a. They pretend to be dead\",\n",
      "        \"b. They jump into the water and hide beneath the surface\",\n",
      "        \"c. They run at high speeds to escape\",\n",
      "        \"d. They confront the threat and fight\"\n",
      "      ],\n",
      "      \"right_option\": \"b\"\n",
      "    }\n",
      "  ]\n",
      "}\n"
     ]
    }
   ],
   "source": [
    "url = \"https://www.rainforest-alliance.org/species/capybara/\"\n",
    "quiz = quiz_generation_pipeline.run({\"link_content_fetcher\": {\"urls\": [url]}})\n",
    "\n",
    "print(json.dumps(quiz['quiz_parser']['quiz'], indent=2))"
   ]
  }
 ],
 "metadata": {
  "kernelspec": {
   "display_name": "ai-dev",
   "language": "python",
   "name": "python3"
  },
  "language_info": {
   "codemirror_mode": {
    "name": "ipython",
    "version": 3
   },
   "file_extension": ".py",
   "mimetype": "text/x-python",
   "name": "python",
   "nbconvert_exporter": "python",
   "pygments_lexer": "ipython3",
   "version": "3.12.4"
  }
 },
 "nbformat": 4,
 "nbformat_minor": 2
}
